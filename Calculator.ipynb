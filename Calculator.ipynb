{
 "cells": [
  {
   "cell_type": "code",
   "execution_count": 1,
   "metadata": {},
   "outputs": [],
   "source": [
    "from tkinter import *\n"
   ]
  },
  {
   "cell_type": "code",
   "execution_count": 2,
   "metadata": {},
   "outputs": [],
   "source": [
    "root=Tk()\n",
    "root.title('Calculator')\n",
    "root.geometry('310x460')\n",
    "display=Frame(root,bg='blue',height=100)\n",
    "display.pack(fill=X,pady=10)\n",
    "\n",
    "countertext=StringVar()\n",
    "\n",
    "counter=Entry(display,textvariable=countertext,font=('digital-7',30,'bold'),width=13)\n",
    "counter.pack(ipady=5)\n",
    "\n",
    "###############################################\n",
    "\n",
    "def click(event):\n",
    "    text=event.widget.cget('text')\n",
    "    print(text)\n",
    "    \n",
    "    if text=='=':\n",
    "        if countertext.get().isdigit():\n",
    "            value=int(countertext.get())\n",
    "        else:\n",
    "            value=eval(countertext.get())\n",
    "        countertext.set(value)\n",
    "        counter.update()\n",
    "        \n",
    "    elif text=='clear':\n",
    "        countertext.set(\"\")\n",
    "        counter.update()\n",
    "    else:\n",
    "        counter.set(countertext.get()+text)\n",
    "#####################################################\n",
    "keypad=Frame(root,bg='red',height=350)\n",
    "keypad.pack(fill=X)"
   ]
  },
  {
   "cell_type": "code",
   "execution_count": 3,
   "metadata": {},
   "outputs": [],
   "source": [
    "clear=Button(keypad,text='clear')\n",
    "clear.bind('<Button-1>',click)\n",
    "clear.grid(row=0,columnspan=4)\n"
   ]
  },
  {
   "cell_type": "code",
   "execution_count": 4,
   "metadata": {},
   "outputs": [],
   "source": [
    "seven=Button(keypad,text='7')\n",
    "seven.bind('<Button-1>',click)\n",
    "seven.grid(row=1,column=0)\n"
   ]
  },
  {
   "cell_type": "code",
   "execution_count": 5,
   "metadata": {},
   "outputs": [],
   "source": [
    "eight=Button(keypad,text='8')\n",
    "eight.bind('<Button-1>',click)\n",
    "eight.grid(row=1,column=1)\n"
   ]
  },
  {
   "cell_type": "code",
   "execution_count": 6,
   "metadata": {},
   "outputs": [],
   "source": [
    "nine=Button(keypad,text='9')\n",
    "nine.bind('<Button-1>',click)\n",
    "nine.grid(row=1,column=2)\n"
   ]
  },
  {
   "cell_type": "code",
   "execution_count": 7,
   "metadata": {},
   "outputs": [],
   "source": [
    "plus=Button(keypad,text='+')\n",
    "plus.bind('<Button-1>',click)\n",
    "plus.grid(row=1,column=3)"
   ]
  },
  {
   "cell_type": "code",
   "execution_count": 8,
   "metadata": {},
   "outputs": [],
   "source": [
    "four=Button(keypad,text='4')\n",
    "four.bind('<Button-1>',click)\n",
    "four.grid(row=2,column=0)\n"
   ]
  },
  {
   "cell_type": "code",
   "execution_count": 9,
   "metadata": {},
   "outputs": [],
   "source": [
    "five=Button(keypad,text='5')\n",
    "five.bind('<Button-1>',click)\n",
    "five.grid(row=2,column=1)\n"
   ]
  },
  {
   "cell_type": "code",
   "execution_count": 10,
   "metadata": {},
   "outputs": [],
   "source": [
    "six=Button(keypad,text='6')\n",
    "six.bind('<Button-1>',click)\n",
    "six.grid(row=2,column=2)\n"
   ]
  },
  {
   "cell_type": "code",
   "execution_count": 11,
   "metadata": {},
   "outputs": [],
   "source": [
    "minus=Button(keypad,text='-')\n",
    "minus.bind('<Button-1>',click)\n",
    "minus.grid(row=2,column=3)"
   ]
  },
  {
   "cell_type": "code",
   "execution_count": 12,
   "metadata": {},
   "outputs": [],
   "source": [
    "one=Button(keypad,text='1')\n",
    "one.bind('<Button-1>',click)\n",
    "one.grid(row=3,column=0)\n"
   ]
  },
  {
   "cell_type": "code",
   "execution_count": 13,
   "metadata": {},
   "outputs": [],
   "source": [
    "two=Button(keypad,text='2')\n",
    "two.bind('<Button-1>',click)\n",
    "two.grid(row=3,column=1)\n"
   ]
  },
  {
   "cell_type": "code",
   "execution_count": 14,
   "metadata": {},
   "outputs": [],
   "source": [
    "three=Button(keypad,text='3')\n",
    "three.bind('<Button-1>',click)\n",
    "three.grid(row=3,column=2)"
   ]
  },
  {
   "cell_type": "code",
   "execution_count": 15,
   "metadata": {},
   "outputs": [],
   "source": [
    "multiply=Button(keypad,text='*')\n",
    "multiply.bind('<Button-1>',click)\n",
    "multiply.grid(row=3,column=3)"
   ]
  },
  {
   "cell_type": "code",
   "execution_count": 16,
   "metadata": {},
   "outputs": [],
   "source": [
    "dot=Button(keypad,text='.')\n",
    "dot.bind('<Button-1>',click)\n",
    "dot.grid(row=4,column=0)"
   ]
  },
  {
   "cell_type": "code",
   "execution_count": 17,
   "metadata": {},
   "outputs": [],
   "source": [
    "equalto=Button(keypad,text='=')\n",
    "equalto.bind('<Button-1>',click)\n",
    "equalto.grid(row=4,column=1)"
   ]
  },
  {
   "cell_type": "code",
   "execution_count": 18,
   "metadata": {},
   "outputs": [],
   "source": [
    "zero=Button(keypad,text='0')\n",
    "zero.bind('<Button-1>',click)\n",
    "zero.grid(row=4,column=2)"
   ]
  },
  {
   "cell_type": "code",
   "execution_count": 19,
   "metadata": {},
   "outputs": [],
   "source": [
    "divide=Button(keypad,text='/')\n",
    "divide.bind('<Button-1>',click)\n",
    "divide.grid(row=4,column=3)"
   ]
  },
  {
   "cell_type": "code",
   "execution_count": null,
   "metadata": {},
   "outputs": [
    {
     "name": "stdout",
     "output_type": "stream",
     "text": [
      "6\n"
     ]
    },
    {
     "name": "stderr",
     "output_type": "stream",
     "text": [
      "Exception in Tkinter callback\n",
      "Traceback (most recent call last):\n",
      "  File \"C:\\Users\\hp\\anaconda3\\lib\\tkinter\\__init__.py\", line 1883, in __call__\n",
      "    return self.func(*args)\n",
      "  File \"<ipython-input-2-1bdb612dc275>\", line 30, in click\n",
      "    counter.set(countertext.get()+text)\n",
      "AttributeError: 'Entry' object has no attribute 'set'\n"
     ]
    },
    {
     "name": "stdout",
     "output_type": "stream",
     "text": [
      "clear\n",
      "clear\n"
     ]
    }
   ],
   "source": [
    "root.mainloop()"
   ]
  },
  {
   "cell_type": "code",
   "execution_count": null,
   "metadata": {},
   "outputs": [],
   "source": []
  },
  {
   "cell_type": "code",
   "execution_count": null,
   "metadata": {},
   "outputs": [],
   "source": []
  },
  {
   "cell_type": "code",
   "execution_count": null,
   "metadata": {},
   "outputs": [],
   "source": []
  }
 ],
 "metadata": {
  "kernelspec": {
   "display_name": "Python 3",
   "language": "python",
   "name": "python3"
  },
  "language_info": {
   "codemirror_mode": {
    "name": "ipython",
    "version": 3
   },
   "file_extension": ".py",
   "mimetype": "text/x-python",
   "name": "python",
   "nbconvert_exporter": "python",
   "pygments_lexer": "ipython3",
   "version": "3.8.5"
  }
 },
 "nbformat": 4,
 "nbformat_minor": 4
}
